{
 "cells": [
  {
   "cell_type": "code",
   "execution_count": 7,
   "metadata": {},
   "outputs": [],
   "source": [
    "from nltk.chat.util import Chat, reflections"
   ]
  },
  {
   "cell_type": "code",
   "execution_count": 9,
   "metadata": {},
   "outputs": [],
   "source": [
    "#print(reflections)\n",
    "\n",
    "pairs = [\n",
    "    [\n",
    "        r\"my name is (.*)\",\n",
    "        [\"Hello %1, How can I help you?\"]\n",
    "    ],\n",
    "    [\n",
    "        r\"hi|hey|hello\",\n",
    "        [\"Helloo\", \"Hey there!\"]\n",
    "    ],\n",
    "    [\n",
    "        r\"what is your name ?\",\n",
    "        [\"you can call me PyBot\"]\n",
    "    ],\n",
    "    [\n",
    "        r\"(.*)assistance regarding my health\",\n",
    "        [\"Please, Provide me with symptoms you have.\"]\n",
    "    ],\n",
    "    [\n",
    "        r\"Thanks(.*)|Thank you(.*)\",\n",
    "        [\"Most WelcomeðŸ˜Š.Its my job\", \"No Problem! Have a Good Day!\", ]\n",
    "    ],\n",
    "    [\n",
    "        r\"(.*)complaint\",\n",
    "        [\"Please elaborate, your concern.\"]\n",
    "    ],\n",
    "    [\n",
    "        r\"cough,fever,cold|Cold|Fever|Cough\",\n",
    "        [\"It may be viral fever. Pls take Paracetamol and proper rest.\"]\n",
    "    ],\n",
    "    [\n",
    "        r\"Loss of taste(.*)\",\n",
    "        [\"It seems to be the symptoms of Covid-19,Pls take the Covid test.\"]\n",
    "    ],\n",
    "    [\n",
    "        r\"(.*)Vomiting,Loose motion(.*)\",\n",
    "        [\"Seems you have got Diarroeha.Pls go to doctor immediately\"]\n",
    "    ],\n",
    "    [\n",
    "        r\"quit\",\n",
    "        [\"BBye take careðŸ‘‹. See you soon :) \", \"It was nice talking to you.\"]\n",
    "    ],\n",
    "    [\n",
    "        r\"(.*)Emergency|(.*)Ambulance\",\n",
    "        [\"Sending an ambulance to your address.\"]\n",
    "    ],\n",
    "]\n"
   ]
  },
  {
   "cell_type": "code",
   "execution_count": 11,
   "metadata": {},
   "outputs": [],
   "source": [
    "def chat():\n",
    "    print(\"Hi! I am a chatbot for your service\")\n",
    "    chat = Chat(pairs, reflections)\n",
    "    chat.converse()\n"
   ]
  },
  {
   "cell_type": "code",
   "execution_count": 12,
   "metadata": {},
   "outputs": [
    {
     "name": "stdout",
     "output_type": "stream",
     "text": [
      "Hi! I am a chatbot for your service\n",
      "Hey there!\n",
      "BBye take careðŸ‘‹. See you soon :) \n"
     ]
    }
   ],
   "source": [
    "\n",
    "#initiate the conversation\n",
    "if __name__ == \"__main__\":\n",
    "    chat()\n"
   ]
  }
 ],
 "metadata": {
  "interpreter": {
   "hash": "a077222d77dfe082b8f1dd562ad70e458ac2ab76993a0b248ab0476e32e9e8dd"
  },
  "kernelspec": {
   "display_name": "Python 3.7.6 ('base')",
   "language": "python",
   "name": "python3"
  },
  "language_info": {
   "codemirror_mode": {
    "name": "ipython",
    "version": 3
   },
   "file_extension": ".py",
   "mimetype": "text/x-python",
   "name": "python",
   "nbconvert_exporter": "python",
   "pygments_lexer": "ipython3",
   "version": "3.7.6"
  },
  "orig_nbformat": 4
 },
 "nbformat": 4,
 "nbformat_minor": 2
}
